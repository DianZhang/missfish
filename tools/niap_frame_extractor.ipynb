{
 "cells": [
  {
   "cell_type": "markdown",
   "metadata": {},
   "source": [
    "# Extract frames from video"
   ]
  },
  {
   "cell_type": "code",
   "execution_count": 1,
   "metadata": {},
   "outputs": [
    {
     "name": "stdout",
     "output_type": "stream",
     "text": [
      "Populating the interactive namespace from numpy and matplotlib\n"
     ]
    }
   ],
   "source": [
    "%pylab inline"
   ]
  },
  {
   "cell_type": "code",
   "execution_count": 3,
   "metadata": {},
   "outputs": [],
   "source": [
    "import cv2\n",
    "import glob\n",
    "import os\n",
    "import time\n",
    "import ntpath"
   ]
  },
  {
   "cell_type": "code",
   "execution_count": 4,
   "metadata": {},
   "outputs": [],
   "source": [
    "video_folder = r'/data/NIAP/Data/selected_video/'\n",
    "frame_out_folder = r'/data/NIAP/Data/frames/'"
   ]
  },
  {
   "cell_type": "code",
   "execution_count": 5,
   "metadata": {},
   "outputs": [],
   "source": [
    "# get all video path in the given folder\n",
    "video_files = glob.glob(video_folder + \"*.mp4\")\n",
    "video_files.sort()"
   ]
  },
  {
   "cell_type": "code",
   "execution_count": 6,
   "metadata": {},
   "outputs": [
    {
     "data": {
      "text/plain": [
       "'aja-helo-1H000314_2017-12-01_0000'"
      ]
     },
     "execution_count": 6,
     "metadata": {},
     "output_type": "execute_result"
    }
   ],
   "source": [
    "ntpath.basename(video_files[0]).split('.')[0]"
   ]
  },
  {
   "cell_type": "code",
   "execution_count": 7,
   "metadata": {},
   "outputs": [
    {
     "name": "stdout",
     "output_type": "stream",
     "text": [
      "45 /data/NIAP/Data/selected_video/aja-helo-1H000314_2017-12-01_0000.mp4\n"
     ]
    }
   ],
   "source": [
    "print(len(video_files), video_files[0])"
   ]
  },
  {
   "cell_type": "code",
   "execution_count": 8,
   "metadata": {},
   "outputs": [
    {
     "name": "stdout",
     "output_type": "stream",
     "text": [
      "0 --- 42.185874223709106 seconds ---\n",
      "1 --- 45.255746603012085 seconds ---\n",
      "2 --- 48.92416429519653 seconds ---\n",
      "3 --- 41.89436340332031 seconds ---\n",
      "4 --- 46.06526064872742 seconds ---\n",
      "5 --- 38.97977566719055 seconds ---\n",
      "6 --- 38.50865173339844 seconds ---\n",
      "7 --- 43.34302830696106 seconds ---\n",
      "8 --- 38.55643129348755 seconds ---\n",
      "9 --- 38.503788471221924 seconds ---\n",
      "10 --- 41.883275508880615 seconds ---\n",
      "11 --- 38.3502414226532 seconds ---\n",
      "12 --- 38.096168518066406 seconds ---\n",
      "13 --- 44.079317808151245 seconds ---\n",
      "14 --- 38.884756088256836 seconds ---\n",
      "15 --- 38.52533793449402 seconds ---\n",
      "16 --- 47.221206188201904 seconds ---\n",
      "17 --- 38.772488594055176 seconds ---\n",
      "18 --- 38.02544331550598 seconds ---\n",
      "19 --- 44.82032895088196 seconds ---\n",
      "20 --- 41.25482416152954 seconds ---\n",
      "21 --- 37.24997854232788 seconds ---\n",
      "22 --- 43.36525321006775 seconds ---\n",
      "23 --- 40.0394446849823 seconds ---\n",
      "24 --- 39.095953702926636 seconds ---\n",
      "25 --- 45.79234743118286 seconds ---\n",
      "26 --- 42.514198303222656 seconds ---\n",
      "27 --- 45.34933829307556 seconds ---\n",
      "28 --- 41.36269021034241 seconds ---\n",
      "29 --- 56.34841322898865 seconds ---\n",
      "30 --- 44.75895404815674 seconds ---\n",
      "31 --- 65.63167095184326 seconds ---\n",
      "32 --- 54.39017605781555 seconds ---\n",
      "33 --- 52.71826410293579 seconds ---\n",
      "34 --- 52.28364896774292 seconds ---\n",
      "35 --- 52.96408534049988 seconds ---\n",
      "36 --- 50.559311389923096 seconds ---\n",
      "37 --- 49.271251916885376 seconds ---\n",
      "38 --- 54.37054705619812 seconds ---\n",
      "39 --- 55.35372614860535 seconds ---\n",
      "40 --- 54.432780742645264 seconds ---\n",
      "41 --- 55.37701177597046 seconds ---\n",
      "42 --- 51.63681483268738 seconds ---\n",
      "43 --- 50.72774028778076 seconds ---\n",
      "44 --- 53.989741802215576 seconds ---\n",
      "total: 2061.7169110774994 seconds ---\n"
     ]
    }
   ],
   "source": [
    "# loop all video and create output folders\n",
    "\n",
    "start_time = time.time()\n",
    "\n",
    "for i, video_file in enumerate(video_files):\n",
    "    \n",
    "    start_time_v = time.time()\n",
    "    \n",
    "    # create outfolder\n",
    "    out_folder = os.path.join(frame_out_folder, ntpath.basename(video_file).split('.')[0])\n",
    "    try: \n",
    "      \n",
    "        # creating a folder named data \n",
    "        # rise OSError\n",
    "        if not os.path.exists(out_folder): \n",
    "            os.makedirs(out_folder) \n",
    "            \n",
    "        # extract frame\n",
    "        currentframe = 0\n",
    "        \n",
    "        cam = cv2.VideoCapture(video_file)\n",
    "        \n",
    "        while(True): \n",
    "      \n",
    "            # reading from frame \n",
    "            ret,frame = cam.read() \n",
    "            \n",
    "            if ret: \n",
    "                \n",
    "                name = os.path.join(out_folder, str(currentframe) + '.jpg')\n",
    "                # writing the extracted images \n",
    "                cv2.imwrite(name, frame) \n",
    "                currentframe += 1\n",
    "            \n",
    "            else:\n",
    "                #read the end of the video\n",
    "                break\n",
    "  \n",
    "        \n",
    "        cam.release() \n",
    "        \n",
    "    # if not created then raise error \n",
    "    except OSError: \n",
    "        print ('Error: Creating directory of data') \n",
    "    \n",
    "\n",
    "    print(str(i) + \" --- %s seconds ---\" % (time.time() - start_time_v))\n",
    "    #break\n",
    "    \n",
    "print(\"total: %s seconds ---\" % (time.time() - start_time))"
   ]
  }
 ],
 "metadata": {
  "kernelspec": {
   "display_name": "Python 3",
   "language": "python",
   "name": "python3"
  },
  "language_info": {
   "codemirror_mode": {
    "name": "ipython",
    "version": 3
   },
   "file_extension": ".py",
   "mimetype": "text/x-python",
   "name": "python",
   "nbconvert_exporter": "python",
   "pygments_lexer": "ipython3",
   "version": "3.7.6"
  }
 },
 "nbformat": 4,
 "nbformat_minor": 2
}
